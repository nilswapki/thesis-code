{
 "cells": [
  {
   "cell_type": "code",
   "execution_count": 22,
   "metadata": {
    "ExecuteTime": {
     "end_time": "2024-02-28T16:17:22.661827Z",
     "start_time": "2024-02-28T16:17:22.658919Z"
    }
   },
   "outputs": [],
   "source": [
    "import yaml"
   ]
  },
  {
   "cell_type": "code",
   "execution_count": 23,
   "metadata": {
    "ExecuteTime": {
     "end_time": "2024-02-28T16:17:22.675228Z",
     "start_time": "2024-02-28T16:17:22.664324Z"
    }
   },
   "outputs": [],
   "source": [
    "subnet_list = ['User',\n",
    "              'Enterprise',\n",
    "              'Operational_A',\n",
    "               'Operational_B',\n",
    "              ]\n",
    "\n",
    "subnet_host_types = ['User','Enterprise','Op_Server','Op_Host']\n",
    "\n",
    "image_map = {\n",
    "    'User': 'Internal', # Windows\n",
    "    'Enterprise': 'Internal', # Windows\n",
    "    'Op_Server': 'Gateway', # Linux\n",
    "    'Op_Host': 'Gateway', # Linux\n",
    "}\n",
    "\n",
    "subnet_sizes = [2,3,1,2]\n",
    "\n",
    "subnet_data = zip(subnet_list,subnet_host_types,subnet_sizes)"
   ]
  },
  {
   "cell_type": "code",
   "execution_count": 24,
   "metadata": {
    "ExecuteTime": {
     "end_time": "2024-02-28T16:17:22.691367Z",
     "start_time": "2024-02-28T16:17:22.674425Z"
    }
   },
   "outputs": [],
   "source": [
    "subnets = {}\n",
    "hosts = {}\n",
    "\n",
    "for name, host_type, number in subnet_data:\n",
    "    host_list = []\n",
    "    for i in range(number):\n",
    "        host_list.append(host_type+str(i))\n",
    "        hosts[host_list[-1]] = {'image': image_map[host_type],\n",
    "                              'AWS_Info': [],\n",
    "                             }\n",
    "        subnets[name] = {\n",
    "            'Hosts':host_list,\n",
    "            'Size':number,\n",
    "            'NACLs':{'all':{'in':'all','out':'all'}}\n",
    "        }"
   ]
  },
  {
   "cell_type": "code",
   "execution_count": 25,
   "metadata": {
    "ExecuteTime": {
     "end_time": "2024-02-28T16:17:22.691772Z",
     "start_time": "2024-02-28T16:17:22.680339Z"
    }
   },
   "outputs": [],
   "source": [
    "red_actions = ['Sleep',\n",
    "               'DiscoverRemoteSystem',\n",
    "               'DiscoverNetworkService',\n",
    "               'DiscoverRemoteVulnerability',\n",
    "               'Exploit',\n",
    "               'Escalate',\n",
    "               'Impact',\n",
    "              ]\n",
    "\n",
    "red_sessions = [{'username':'SYSTEM',\n",
    "               'hostname':'User0',\n",
    "               'type':'MetasploitServer',\n",
    "               'name':'MSFServer',\n",
    "              }]\n",
    "\n",
    "red_int = {'Hosts':{'User1':\n",
    "                    {'Interfaces':['User'],\n",
    "                     'System info': 'All',\n",
    "                    }\n",
    "                   }\n",
    "          }\n",
    "\n",
    "red = {'agent_type':'SleepAgent',\n",
    "        'wrappers':[],\n",
    "        'actions':red_actions,\n",
    "        'starting_sessions':red_sessions,\n",
    "        'reward_calculator_type':'Pwn',\n",
    "        'INT': red_int,\n",
    "        'AllowedSubnets': ['User'],\n",
    "      }"
   ]
  },
  {
   "cell_type": "code",
   "execution_count": 26,
   "metadata": {
    "ExecuteTime": {
     "end_time": "2024-02-28T16:17:22.701464Z",
     "start_time": "2024-02-28T16:17:22.685677Z"
    }
   },
   "outputs": [],
   "source": [
    "blue_actions = ['Sleep',\n",
    "               'Monitor',\n",
    "               'Analyse',\n",
    "               'Block',\n",
    "               'Unblock',\n",
    "               'Restore',\n",
    "               'Deceive',\n",
    "              ]\n",
    "\n",
    "blue_sessions = [{'username':'ubuntu',\n",
    "                'hostname':'Enterprise1',\n",
    "                'type':'VelociraptorServer',\n",
    "                'name':'VeloServer',\n",
    "                'num_children_sessions':2,\n",
    "                 'artifacts': ['Generic.Client.Stats',\n",
    "                              'Linux.Events.SSHLogin',\n",
    "                              'Windows.Events.ProcessCreation',\n",
    "                              ]\n",
    "              },\n",
    "                {'name':'VeloInternal',\n",
    "                'username':'SYSTEM',\n",
    "                'type':'VelociraptorClient',\n",
    "                'hostname':'Internal',\n",
    "                'parent':'VeloServer'\n",
    "                },\n",
    "                {'name':'VeloGateway',\n",
    "                'username':'ubuntu',\n",
    "                'type':'VelociraptorClient',\n",
    "                'hostname':'Gateway',\n",
    "                'parent':'VeloServer'\n",
    "                }]\n",
    "\n",
    "blue_host_dict = {}\n",
    "for host in hosts.keys():\n",
    "    blue_host_dict[host] = {\n",
    "        'Interfaces':[host[0:-1]], #More than ten on subnet it breaks\n",
    "        'Creds':'All',\n",
    "        'OS_info':{},\n",
    "        'System info': 'All',\n",
    "    }\n",
    "\n",
    "blue_int = {'Hosts':blue_host_dict}\n",
    "\n",
    "blue = {'agent_type':'SleepAgent',\n",
    "        'wrappers':[],\n",
    "        'actions':blue_actions,\n",
    "        'starting_sessions':blue_sessions,\n",
    "        'reward_calculator_type':'SimpleAvailability',\n",
    "        'INT': red_int,\n",
    "        'AllowedSubnets': ['User',\n",
    "                           'Enterprise',\n",
    "                           'Op_Server',\n",
    "                           'Op_Host',\n",
    "                          ]\n",
    "      }\n",
    "\n",
    "green_actions = ['Sleep',\n",
    "                'AddFile',\n",
    "                'ModifyFile',\n",
    "                'DeleteFile',\n",
    "                'DownloadFile',\n",
    "                'MoveFile',\n",
    "                'CreateProcess',\n",
    "                'RemoveProcess',\n",
    "                'GreenPortScan',\n",
    "                'GreenPingSweep',\n",
    "                'GreenSSHConnection',\n",
    "                'MagicOTConnection'\n",
    "               ]\n",
    "\n",
    "green_sessions = []\n",
    "\n",
    "for host in hosts.keys():\n",
    "    sess = {'username':'GreenAgent',\n",
    "                'hostname':host,\n",
    "                'type':'Session',\n",
    "                'name':'GreenSession',\n",
    "           }\n",
    "    green_sessions.append(sess)\n",
    "\n",
    "green = {'agent_type':'SleepAgent',\n",
    "        'wrappers':[],\n",
    "        'actions':green_actions,\n",
    "        'starting_sessions':green_sessions,\n",
    "        'reward_calculator_type':[],\n",
    "        'INT': [],\n",
    "        'AllowedSubnets': ['User',\n",
    "                           'Enterprise',\n",
    "                           'Op_Server',\n",
    "                           'Op_Host',\n",
    "                          ]\n",
    "      }\n",
    "\n",
    "agents = {'Red':red,\n",
    "          'Blue':blue,\n",
    "         'Green':green\n",
    "         }"
   ]
  },
  {
   "cell_type": "code",
   "execution_count": 27,
   "metadata": {
    "ExecuteTime": {
     "end_time": "2024-02-28T16:17:22.701727Z",
     "start_time": "2024-02-28T16:17:22.695812Z"
    }
   },
   "outputs": [],
   "source": [
    "scenario = {'Agents':agents,\n",
    "           'Subnets':subnets,\n",
    "           'Hosts':hosts}"
   ]
  },
  {
   "cell_type": "code",
   "execution_count": 28,
   "metadata": {
    "ExecuteTime": {
     "end_time": "2024-02-28T16:17:22.710293Z",
     "start_time": "2024-02-28T16:17:22.699938Z"
    }
   },
   "outputs": [],
   "source": [
    "output = yaml.dump(scenario)"
   ]
  },
  {
   "cell_type": "code",
   "execution_count": 29,
   "metadata": {
    "ExecuteTime": {
     "end_time": "2024-02-28T16:17:22.713933Z",
     "start_time": "2024-02-28T16:17:22.711082Z"
    }
   },
   "outputs": [
    {
     "name": "stdout",
     "output_type": "stream",
     "text": [
      "Agents:\n",
      "  Blue:\n",
      "    AllowedSubnets:\n",
      "    - User\n",
      "    - Enterprise\n",
      "    - Op_Server\n",
      "    - Op_Host\n",
      "    INT: &id001\n",
      "      Hosts:\n",
      "        User1:\n",
      "          Interfaces:\n",
      "          - User\n",
      "          System info: All\n",
      "    actions:\n",
      "    - Sleep\n",
      "    - Monitor\n",
      "    - Analyse\n",
      "    - Block\n",
      "    - Unblock\n",
      "    - Restore\n",
      "    - Deceive\n",
      "    agent_type: SleepAgent\n",
      "    reward_calculator_type: SimpleAvailability\n",
      "    starting_sessions:\n",
      "    - artifacts:\n",
      "      - Generic.Client.Stats\n",
      "      - Linux.Events.SSHLogin\n",
      "      - Windows.Events.ProcessCreation\n",
      "      hostname: Enterprise1\n",
      "      name: VeloServer\n",
      "      num_children_sessions: 2\n",
      "      type: VelociraptorServer\n",
      "      username: ubuntu\n",
      "    - hostname: Internal\n",
      "      name: VeloInternal\n",
      "      parent: VeloServer\n",
      "      type: VelociraptorClient\n",
      "      username: SYSTEM\n",
      "    - hostname: Gateway\n",
      "      name: VeloGateway\n",
      "      parent: VeloServer\n",
      "      type: VelociraptorClient\n",
      "      username: ubuntu\n",
      "    wrappers: []\n",
      "  Green:\n",
      "    AllowedSubnets:\n",
      "    - User\n",
      "    - Enterprise\n",
      "    - Op_Server\n",
      "    - Op_Host\n",
      "    INT: []\n",
      "    actions:\n",
      "    - Sleep\n",
      "    - AddFile\n",
      "    - ModifyFile\n",
      "    - DeleteFile\n",
      "    - DownloadFile\n",
      "    - MoveFile\n",
      "    - CreateProcess\n",
      "    - RemoveProcess\n",
      "    - GreenPortScan\n",
      "    - GreenPingSweep\n",
      "    - GreenSSHConnection\n",
      "    - MagicOTConnection\n",
      "    agent_type: SleepAgent\n",
      "    reward_calculator_type: []\n",
      "    starting_sessions:\n",
      "    - hostname: User0\n",
      "      name: GreenSession\n",
      "      type: Session\n",
      "      username: GreenAgent\n",
      "    - hostname: User1\n",
      "      name: GreenSession\n",
      "      type: Session\n",
      "      username: GreenAgent\n",
      "    - hostname: Enterprise0\n",
      "      name: GreenSession\n",
      "      type: Session\n",
      "      username: GreenAgent\n",
      "    - hostname: Enterprise1\n",
      "      name: GreenSession\n",
      "      type: Session\n",
      "      username: GreenAgent\n",
      "    - hostname: Enterprise2\n",
      "      name: GreenSession\n",
      "      type: Session\n",
      "      username: GreenAgent\n",
      "    - hostname: Op_Server0\n",
      "      name: GreenSession\n",
      "      type: Session\n",
      "      username: GreenAgent\n",
      "    - hostname: Op_Host0\n",
      "      name: GreenSession\n",
      "      type: Session\n",
      "      username: GreenAgent\n",
      "    - hostname: Op_Host1\n",
      "      name: GreenSession\n",
      "      type: Session\n",
      "      username: GreenAgent\n",
      "    wrappers: []\n",
      "  Red:\n",
      "    AllowedSubnets:\n",
      "    - User\n",
      "    INT: *id001\n",
      "    actions:\n",
      "    - Sleep\n",
      "    - DiscoverRemoteSystem\n",
      "    - DiscoverNetworkService\n",
      "    - DiscoverRemoteVulnerability\n",
      "    - Exploit\n",
      "    - Escalate\n",
      "    - Impact\n",
      "    agent_type: SleepAgent\n",
      "    reward_calculator_type: Pwn\n",
      "    starting_sessions:\n",
      "    - hostname: User0\n",
      "      name: MSFServer\n",
      "      type: MetasploitServer\n",
      "      username: SYSTEM\n",
      "    wrappers: []\n",
      "Hosts:\n",
      "  Enterprise0:\n",
      "    AWS_Info: []\n",
      "    image: Internal\n",
      "  Enterprise1:\n",
      "    AWS_Info: []\n",
      "    image: Internal\n",
      "  Enterprise2:\n",
      "    AWS_Info: []\n",
      "    image: Internal\n",
      "  Op_Host0:\n",
      "    AWS_Info: []\n",
      "    image: Gateway\n",
      "  Op_Host1:\n",
      "    AWS_Info: []\n",
      "    image: Gateway\n",
      "  Op_Server0:\n",
      "    AWS_Info: []\n",
      "    image: Gateway\n",
      "  User0:\n",
      "    AWS_Info: []\n",
      "    image: Internal\n",
      "  User1:\n",
      "    AWS_Info: []\n",
      "    image: Internal\n",
      "Subnets:\n",
      "  Enterprise:\n",
      "    Hosts:\n",
      "    - Enterprise0\n",
      "    - Enterprise1\n",
      "    - Enterprise2\n",
      "    NACLs:\n",
      "      all:\n",
      "        in: all\n",
      "        out: all\n",
      "    Size: 3\n",
      "  Operational_A:\n",
      "    Hosts:\n",
      "    - Op_Server0\n",
      "    NACLs:\n",
      "      all:\n",
      "        in: all\n",
      "        out: all\n",
      "    Size: 1\n",
      "  Operational_B:\n",
      "    Hosts:\n",
      "    - Op_Host0\n",
      "    - Op_Host1\n",
      "    NACLs:\n",
      "      all:\n",
      "        in: all\n",
      "        out: all\n",
      "    Size: 2\n",
      "  User:\n",
      "    Hosts:\n",
      "    - User0\n",
      "    - User1\n",
      "    NACLs:\n",
      "      all:\n",
      "        in: all\n",
      "        out: all\n",
      "    Size: 2\n",
      "\n"
     ]
    }
   ],
   "source": [
    "print(output)"
   ]
  },
  {
   "cell_type": "code",
   "execution_count": 30,
   "metadata": {
    "ExecuteTime": {
     "end_time": "2024-02-28T16:17:22.744094Z",
     "start_time": "2024-02-28T16:17:22.715733Z"
    }
   },
   "outputs": [],
   "source": [
    "with open('Scenario2_trial.yaml','w') as file:\n",
    "    yaml.dump(scenario,file)"
   ]
  },
  {
   "cell_type": "code",
   "execution_count": 30,
   "metadata": {
    "ExecuteTime": {
     "end_time": "2024-02-28T16:17:22.749310Z",
     "start_time": "2024-02-28T16:17:22.729724Z"
    }
   },
   "outputs": [],
   "source": []
  },
  {
   "cell_type": "code",
   "execution_count": 30,
   "outputs": [],
   "source": [],
   "metadata": {
    "collapsed": false,
    "ExecuteTime": {
     "end_time": "2024-02-28T16:17:22.749561Z",
     "start_time": "2024-02-28T16:17:22.733319Z"
    }
   }
  },
  {
   "cell_type": "code",
   "execution_count": 30,
   "outputs": [],
   "source": [],
   "metadata": {
    "collapsed": false,
    "ExecuteTime": {
     "end_time": "2024-02-28T16:17:22.749652Z",
     "start_time": "2024-02-28T16:17:22.736415Z"
    }
   }
  }
 ],
 "metadata": {
  "kernelspec": {
   "display_name": "Python 3",
   "language": "python",
   "name": "python3"
  },
  "language_info": {
   "codemirror_mode": {
    "name": "ipython",
    "version": 3
   },
   "file_extension": ".py",
   "mimetype": "text/x-python",
   "name": "python",
   "nbconvert_exporter": "python",
   "pygments_lexer": "ipython3",
   "version": "3.7.5"
  }
 },
 "nbformat": 4,
 "nbformat_minor": 4
}
